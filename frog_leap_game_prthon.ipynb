{
 "cells": [
  {
   "cell_type": "code",
   "execution_count": 2,
   "metadata": {},
   "outputs": [
    {
     "name": "stdout",
     "output_type": "stream",
     "text": [
      "['G', 'G', 'G', 'G', '-', 'B', 'B', 'B', 'B']\n",
      "YOU QUIT:(\n"
     ]
    }
   ],
   "source": [
    "#merge the code\n",
    "\n",
    "positions = list(['G','G','G','G','-','B','B','B','B'])\n",
    "print(positions)\n",
    "\n",
    "while True:\n",
    "  pos = input(\"Press q to exit or Enter the posittion :\")\n",
    "  if pos == 'q':\n",
    "   print(\"YOU QUIT:(\")\n",
    "   break\n",
    "  pos = int(pos)\n",
    "\n",
    "  if pos<0 or 6<pos:\n",
    "    print(\"Invalid Move:(\")\n",
    "    continue\n",
    "  if positions[pos] == '-':\n",
    "    print(\"Invalid moves:(\")\n",
    "    continue\n",
    "\n",
    "  if positions[pos] == 'G':\n",
    "    if(pos+1) <= 6 and positions[pos+1] =='-':\n",
    "      pass\n",
    "    elif  (pos+2) <= 6 and positions[pos+2] == '-' and positions[pos+1] == 'B':\n",
    "      pass\n",
    "    else:\n",
    "      print(\"Invalid Move\")\n",
    "      break\n",
    "  if positions[po] == 'B':\n",
    "    if (pos-1) >= 0 and positions[pos-1] == '-':\n",
    "      pass\n",
    "    elif(pos-2) >= 0 and positions[pos-2] =='-' and positions[pos-1] == 'G':\n",
    "      pass\n",
    "    else:\n",
    "      print('Invalid Move:(')\n",
    "\n",
    "\n",
    "  pos2 =0\n",
    "  if positions[pos] == 'G':\n",
    "    if positions[pos +1] =='-':\n",
    "      pos2 = (pos+1)\n",
    "    elif positions[pos+2] == '-':\n",
    "      pos2 = (pos+2)\n",
    "  if positions[pos] =='B':\n",
    "    if positions[pos-1] =='-':\n",
    "      pos2 =(pos -1)\n",
    "    elif positions[pos-2] == '-':\n",
    "      pos2 =(pos-2)\n",
    "  positions[pos], positions[pos2]= positions[po2], positions[pos]\n",
    "  print(\"[0, 1 , 2 , 3 , 4 , 5 , 6 ]\")\n",
    "  print(positions)\n",
    "\n",
    "  if positions == ['B','B','B','B','-','G','G','G','G'] :\n",
    "    print(\"YOU WON:)\")\n",
    "\n"
   ]
  }
 ],
 "metadata": {
  "kernelspec": {
   "display_name": "Python 3",
   "language": "python",
   "name": "python3"
  },
  "language_info": {
   "codemirror_mode": {
    "name": "ipython",
    "version": 3
   },
   "file_extension": ".py",
   "mimetype": "text/x-python",
   "name": "python",
   "nbconvert_exporter": "python",
   "pygments_lexer": "ipython3",
   "version": "3.11.7"
  }
 },
 "nbformat": 4,
 "nbformat_minor": 2
}
